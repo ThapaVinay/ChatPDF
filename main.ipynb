{
 "cells": [
  {
   "cell_type": "code",
   "execution_count": 2,
   "metadata": {},
   "outputs": [
    {
     "name": "stdout",
     "output_type": "stream",
     "text": [
      "Requirement already satisfied: langchain in c:\\python312\\lib\\site-packages (0.1.6)\n",
      "Requirement already satisfied: PyYAML>=5.3 in c:\\python312\\lib\\site-packages (from langchain) (6.0.1)\n",
      "Requirement already satisfied: SQLAlchemy<3,>=1.4 in c:\\python312\\lib\\site-packages (from langchain) (2.0.26)\n",
      "Requirement already satisfied: aiohttp<4.0.0,>=3.8.3 in c:\\python312\\lib\\site-packages (from langchain) (3.9.3)\n",
      "Requirement already satisfied: dataclasses-json<0.7,>=0.5.7 in c:\\python312\\lib\\site-packages (from langchain) (0.6.4)\n",
      "Requirement already satisfied: jsonpatch<2.0,>=1.33 in c:\\python312\\lib\\site-packages (from langchain) (1.33)\n",
      "Requirement already satisfied: langchain-community<0.1,>=0.0.18 in c:\\python312\\lib\\site-packages (from langchain) (0.0.28)\n",
      "Requirement already satisfied: langchain-core<0.2,>=0.1.22 in c:\\python312\\lib\\site-packages (from langchain) (0.1.32)\n",
      "Collecting langsmith<0.1,>=0.0.83 (from langchain)\n",
      "  Using cached langsmith-0.0.92-py3-none-any.whl.metadata (9.9 kB)\n",
      "Requirement already satisfied: numpy<2,>=1 in c:\\python312\\lib\\site-packages (from langchain) (1.26.2)\n",
      "Requirement already satisfied: pydantic<3,>=1 in c:\\python312\\lib\\site-packages (from langchain) (2.5.3)\n",
      "Requirement already satisfied: requests<3,>=2 in c:\\python312\\lib\\site-packages (from langchain) (2.31.0)\n",
      "Requirement already satisfied: tenacity<9.0.0,>=8.1.0 in c:\\python312\\lib\\site-packages (from langchain) (8.2.3)\n",
      "Requirement already satisfied: aiosignal>=1.1.2 in c:\\python312\\lib\\site-packages (from aiohttp<4.0.0,>=3.8.3->langchain) (1.3.1)\n",
      "Requirement already satisfied: attrs>=17.3.0 in c:\\python312\\lib\\site-packages (from aiohttp<4.0.0,>=3.8.3->langchain) (23.2.0)\n",
      "Requirement already satisfied: frozenlist>=1.1.1 in c:\\python312\\lib\\site-packages (from aiohttp<4.0.0,>=3.8.3->langchain) (1.4.1)\n",
      "Requirement already satisfied: multidict<7.0,>=4.5 in c:\\python312\\lib\\site-packages (from aiohttp<4.0.0,>=3.8.3->langchain) (6.0.5)\n",
      "Requirement already satisfied: yarl<2.0,>=1.0 in c:\\python312\\lib\\site-packages (from aiohttp<4.0.0,>=3.8.3->langchain) (1.9.4)\n",
      "Requirement already satisfied: marshmallow<4.0.0,>=3.18.0 in c:\\python312\\lib\\site-packages (from dataclasses-json<0.7,>=0.5.7->langchain) (3.20.2)\n",
      "Requirement already satisfied: typing-inspect<1,>=0.4.0 in c:\\python312\\lib\\site-packages (from dataclasses-json<0.7,>=0.5.7->langchain) (0.9.0)\n",
      "Requirement already satisfied: jsonpointer>=1.9 in c:\\python312\\lib\\site-packages (from jsonpatch<2.0,>=1.33->langchain) (2.4)\n",
      "INFO: pip is looking at multiple versions of langchain-community to determine which version is compatible with other requirements. This could take a while.\n",
      "Collecting langchain-community<0.1,>=0.0.18 (from langchain)\n",
      "  Using cached langchain_community-0.0.27-py3-none-any.whl.metadata (8.2 kB)\n",
      "  Using cached langchain_community-0.0.26-py3-none-any.whl.metadata (8.2 kB)\n",
      "  Using cached langchain_community-0.0.25-py3-none-any.whl.metadata (8.1 kB)\n",
      "  Using cached langchain_community-0.0.24-py3-none-any.whl.metadata (8.1 kB)\n",
      "  Using cached langchain_community-0.0.23-py3-none-any.whl.metadata (8.1 kB)\n",
      "  Using cached langchain_community-0.0.22-py3-none-any.whl.metadata (8.1 kB)\n",
      "  Using cached langchain_community-0.0.21-py3-none-any.whl.metadata (8.1 kB)\n",
      "INFO: pip is still looking at multiple versions of langchain-community to determine which version is compatible with other requirements. This could take a while.\n",
      "  Using cached langchain_community-0.0.20-py3-none-any.whl.metadata (8.1 kB)\n",
      "Requirement already satisfied: anyio<5,>=3 in c:\\python312\\lib\\site-packages (from langchain-core<0.2,>=0.1.22->langchain) (4.2.0)\n",
      "INFO: pip is looking at multiple versions of langchain-core to determine which version is compatible with other requirements. This could take a while.\n",
      "Collecting langchain-core<0.2,>=0.1.22 (from langchain)\n",
      "  Using cached langchain_core-0.1.31-py3-none-any.whl.metadata (6.0 kB)\n",
      "  Using cached langchain_core-0.1.30-py3-none-any.whl.metadata (6.0 kB)\n",
      "  Using cached langchain_core-0.1.29-py3-none-any.whl.metadata (6.0 kB)\n",
      "  Using cached langchain_core-0.1.28-py3-none-any.whl.metadata (6.0 kB)\n",
      "  Using cached langchain_core-0.1.27-py3-none-any.whl.metadata (6.0 kB)\n",
      "  Using cached langchain_core-0.1.26-py3-none-any.whl.metadata (6.0 kB)\n",
      "  Using cached langchain_core-0.1.25-py3-none-any.whl.metadata (6.0 kB)\n",
      "INFO: pip is still looking at multiple versions of langchain-core to determine which version is compatible with other requirements. This could take a while.\n",
      "  Using cached langchain_core-0.1.24-py3-none-any.whl.metadata (6.0 kB)\n",
      "  Using cached langchain_core-0.1.23-py3-none-any.whl.metadata (6.0 kB)\n",
      "Collecting langsmith<0.1,>=0.0.83 (from langchain)\n",
      "  Using cached langsmith-0.0.87-py3-none-any.whl.metadata (10 kB)\n",
      "Requirement already satisfied: packaging<24.0,>=23.2 in c:\\users\\asus\\appdata\\roaming\\python\\python312\\site-packages (from langchain-core<0.2,>=0.1.22->langchain) (23.2)\n",
      "Requirement already satisfied: annotated-types>=0.4.0 in c:\\python312\\lib\\site-packages (from pydantic<3,>=1->langchain) (0.6.0)\n",
      "Requirement already satisfied: pydantic-core==2.14.6 in c:\\python312\\lib\\site-packages (from pydantic<3,>=1->langchain) (2.14.6)\n",
      "Requirement already satisfied: typing-extensions>=4.6.1 in c:\\python312\\lib\\site-packages (from pydantic<3,>=1->langchain) (4.9.0)\n",
      "Requirement already satisfied: charset-normalizer<4,>=2 in c:\\python312\\lib\\site-packages (from requests<3,>=2->langchain) (3.3.2)\n",
      "Requirement already satisfied: idna<4,>=2.5 in c:\\python312\\lib\\site-packages (from requests<3,>=2->langchain) (3.6)\n",
      "Requirement already satisfied: urllib3<3,>=1.21.1 in c:\\python312\\lib\\site-packages (from requests<3,>=2->langchain) (2.0.7)\n",
      "Requirement already satisfied: certifi>=2017.4.17 in c:\\python312\\lib\\site-packages (from requests<3,>=2->langchain) (2023.11.17)\n",
      "Requirement already satisfied: greenlet!=0.4.17 in c:\\python312\\lib\\site-packages (from SQLAlchemy<3,>=1.4->langchain) (3.0.3)\n",
      "Requirement already satisfied: sniffio>=1.1 in c:\\python312\\lib\\site-packages (from anyio<5,>=3->langchain-core<0.2,>=0.1.22->langchain) (1.3.0)\n",
      "Requirement already satisfied: mypy-extensions>=0.3.0 in c:\\python312\\lib\\site-packages (from typing-inspect<1,>=0.4.0->dataclasses-json<0.7,>=0.5.7->langchain) (1.0.0)\n",
      "Using cached langchain_community-0.0.20-py3-none-any.whl (1.7 MB)\n",
      "Using cached langchain_core-0.1.23-py3-none-any.whl (241 kB)\n",
      "Using cached langsmith-0.0.87-py3-none-any.whl (55 kB)\n",
      "Installing collected packages: langsmith, langchain-core, langchain-community\n",
      "  Attempting uninstall: langsmith\n",
      "    Found existing installation: langsmith 0.1.27\n",
      "    Uninstalling langsmith-0.1.27:\n"
     ]
    },
    {
     "name": "stderr",
     "output_type": "stream",
     "text": [
      "ERROR: Could not install packages due to an OSError: [WinError 5] Access is denied: 'c:\\\\python312\\\\scripts\\\\langsmith.exe'\n",
      "Consider using the `--user` option or check the permissions.\n",
      "\n"
     ]
    },
    {
     "name": "stdout",
     "output_type": "stream",
     "text": [
      "Requirement already satisfied: sentence_transformers in c:\\python312\\lib\\site-packages (2.5.1)\n",
      "Requirement already satisfied: transformers<5.0.0,>=4.32.0 in c:\\python312\\lib\\site-packages (from sentence_transformers) (4.37.2)\n",
      "Requirement already satisfied: tqdm in c:\\python312\\lib\\site-packages (from sentence_transformers) (4.66.1)\n",
      "Requirement already satisfied: torch>=1.11.0 in c:\\python312\\lib\\site-packages (from sentence_transformers) (2.2.0)\n",
      "Requirement already satisfied: numpy in c:\\python312\\lib\\site-packages (from sentence_transformers) (1.26.2)\n",
      "Requirement already satisfied: scikit-learn in c:\\python312\\lib\\site-packages (from sentence_transformers) (1.3.2)\n",
      "Requirement already satisfied: scipy in c:\\python312\\lib\\site-packages (from sentence_transformers) (1.11.4)\n",
      "Requirement already satisfied: huggingface-hub>=0.15.1 in c:\\python312\\lib\\site-packages (from sentence_transformers) (0.20.3)\n",
      "Requirement already satisfied: Pillow in c:\\python312\\lib\\site-packages (from sentence_transformers) (10.1.0)\n",
      "Requirement already satisfied: filelock in c:\\python312\\lib\\site-packages (from huggingface-hub>=0.15.1->sentence_transformers) (3.13.1)\n",
      "Requirement already satisfied: fsspec>=2023.5.0 in c:\\python312\\lib\\site-packages (from huggingface-hub>=0.15.1->sentence_transformers) (2024.2.0)\n",
      "Requirement already satisfied: requests in c:\\python312\\lib\\site-packages (from huggingface-hub>=0.15.1->sentence_transformers) (2.31.0)\n",
      "Requirement already satisfied: pyyaml>=5.1 in c:\\python312\\lib\\site-packages (from huggingface-hub>=0.15.1->sentence_transformers) (6.0.1)\n",
      "Requirement already satisfied: typing-extensions>=3.7.4.3 in c:\\python312\\lib\\site-packages (from huggingface-hub>=0.15.1->sentence_transformers) (4.9.0)\n",
      "Requirement already satisfied: packaging>=20.9 in c:\\users\\asus\\appdata\\roaming\\python\\python312\\site-packages (from huggingface-hub>=0.15.1->sentence_transformers) (23.2)\n",
      "Requirement already satisfied: sympy in c:\\python312\\lib\\site-packages (from torch>=1.11.0->sentence_transformers) (1.12)\n",
      "Requirement already satisfied: networkx in c:\\python312\\lib\\site-packages (from torch>=1.11.0->sentence_transformers) (3.2.1)\n",
      "Requirement already satisfied: jinja2 in c:\\python312\\lib\\site-packages (from torch>=1.11.0->sentence_transformers) (3.1.3)\n",
      "Requirement already satisfied: colorama in c:\\python312\\lib\\site-packages (from tqdm->sentence_transformers) (0.4.6)\n",
      "Requirement already satisfied: regex!=2019.12.17 in c:\\python312\\lib\\site-packages (from transformers<5.0.0,>=4.32.0->sentence_transformers) (2023.12.25)\n",
      "Requirement already satisfied: tokenizers<0.19,>=0.14 in c:\\python312\\lib\\site-packages (from transformers<5.0.0,>=4.32.0->sentence_transformers) (0.15.2)\n",
      "Requirement already satisfied: safetensors>=0.4.1 in c:\\python312\\lib\\site-packages (from transformers<5.0.0,>=4.32.0->sentence_transformers) (0.4.2)\n",
      "Requirement already satisfied: joblib>=1.1.1 in c:\\python312\\lib\\site-packages (from scikit-learn->sentence_transformers) (1.3.2)\n",
      "Requirement already satisfied: threadpoolctl>=2.0.0 in c:\\python312\\lib\\site-packages (from scikit-learn->sentence_transformers) (3.2.0)\n",
      "Requirement already satisfied: MarkupSafe>=2.0 in c:\\python312\\lib\\site-packages (from jinja2->torch>=1.11.0->sentence_transformers) (2.1.3)\n",
      "Requirement already satisfied: charset-normalizer<4,>=2 in c:\\python312\\lib\\site-packages (from requests->huggingface-hub>=0.15.1->sentence_transformers) (3.3.2)\n",
      "Requirement already satisfied: idna<4,>=2.5 in c:\\python312\\lib\\site-packages (from requests->huggingface-hub>=0.15.1->sentence_transformers) (3.6)\n",
      "Requirement already satisfied: urllib3<3,>=1.21.1 in c:\\python312\\lib\\site-packages (from requests->huggingface-hub>=0.15.1->sentence_transformers) (2.0.7)\n",
      "Requirement already satisfied: certifi>=2017.4.17 in c:\\python312\\lib\\site-packages (from requests->huggingface-hub>=0.15.1->sentence_transformers) (2023.11.17)\n",
      "Requirement already satisfied: mpmath>=0.19 in c:\\python312\\lib\\site-packages (from sympy->torch>=1.11.0->sentence_transformers) (1.3.0)\n"
     ]
    },
    {
     "name": "stderr",
     "output_type": "stream",
     "text": [
      "WARNING: Ignoring invalid distribution ~ (C:\\Python312\\Lib\\site-packages)\n",
      "WARNING: Ignoring invalid distribution ~ (C:\\Python312\\Lib\\site-packages)\n"
     ]
    },
    {
     "name": "stdout",
     "output_type": "stream",
     "text": [
      "Requirement already satisfied: pypdf2 in c:\\python312\\lib\\site-packages (3.0.1)\n"
     ]
    },
    {
     "name": "stderr",
     "output_type": "stream",
     "text": [
      "WARNING: Ignoring invalid distribution ~ (C:\\Python312\\Lib\\site-packages)\n",
      "WARNING: Ignoring invalid distribution ~ (C:\\Python312\\Lib\\site-packages)\n"
     ]
    },
    {
     "name": "stdout",
     "output_type": "stream",
     "text": [
      "Requirement already satisfied: transformers in c:\\python312\\lib\\site-packages (4.37.2)\n",
      "Requirement already satisfied: filelock in c:\\python312\\lib\\site-packages (from transformers) (3.13.1)\n",
      "Requirement already satisfied: huggingface-hub<1.0,>=0.19.3 in c:\\python312\\lib\\site-packages (from transformers) (0.20.3)\n",
      "Requirement already satisfied: numpy>=1.17 in c:\\python312\\lib\\site-packages (from transformers) (1.26.2)\n",
      "Requirement already satisfied: packaging>=20.0 in c:\\users\\asus\\appdata\\roaming\\python\\python312\\site-packages (from transformers) (23.2)\n",
      "Requirement already satisfied: pyyaml>=5.1 in c:\\python312\\lib\\site-packages (from transformers) (6.0.1)\n",
      "Requirement already satisfied: regex!=2019.12.17 in c:\\python312\\lib\\site-packages (from transformers) (2023.12.25)\n",
      "Requirement already satisfied: requests in c:\\python312\\lib\\site-packages (from transformers) (2.31.0)\n",
      "Requirement already satisfied: tokenizers<0.19,>=0.14 in c:\\python312\\lib\\site-packages (from transformers) (0.15.2)\n",
      "Requirement already satisfied: safetensors>=0.4.1 in c:\\python312\\lib\\site-packages (from transformers) (0.4.2)\n",
      "Requirement already satisfied: tqdm>=4.27 in c:\\python312\\lib\\site-packages (from transformers) (4.66.1)\n",
      "Requirement already satisfied: fsspec>=2023.5.0 in c:\\python312\\lib\\site-packages (from huggingface-hub<1.0,>=0.19.3->transformers) (2024.2.0)\n",
      "Requirement already satisfied: typing-extensions>=3.7.4.3 in c:\\python312\\lib\\site-packages (from huggingface-hub<1.0,>=0.19.3->transformers) (4.9.0)\n",
      "Requirement already satisfied: colorama in c:\\python312\\lib\\site-packages (from tqdm>=4.27->transformers) (0.4.6)\n",
      "Requirement already satisfied: charset-normalizer<4,>=2 in c:\\python312\\lib\\site-packages (from requests->transformers) (3.3.2)\n",
      "Requirement already satisfied: idna<4,>=2.5 in c:\\python312\\lib\\site-packages (from requests->transformers) (3.6)\n",
      "Requirement already satisfied: urllib3<3,>=1.21.1 in c:\\python312\\lib\\site-packages (from requests->transformers) (2.0.7)\n",
      "Requirement already satisfied: certifi>=2017.4.17 in c:\\python312\\lib\\site-packages (from requests->transformers) (2023.11.17)\n"
     ]
    },
    {
     "name": "stderr",
     "output_type": "stream",
     "text": [
      "WARNING: Ignoring invalid distribution ~ (C:\\Python312\\Lib\\site-packages)\n",
      "WARNING: Ignoring invalid distribution ~ (C:\\Python312\\Lib\\site-packages)\n"
     ]
    },
    {
     "name": "stdout",
     "output_type": "stream",
     "text": [
      "Requirement already satisfied: sentence-transformers in c:\\python312\\lib\\site-packages (2.5.1)\n",
      "Requirement already satisfied: transformers<5.0.0,>=4.32.0 in c:\\python312\\lib\\site-packages (from sentence-transformers) (4.37.2)\n",
      "Requirement already satisfied: tqdm in c:\\python312\\lib\\site-packages (from sentence-transformers) (4.66.1)\n",
      "Requirement already satisfied: torch>=1.11.0 in c:\\python312\\lib\\site-packages (from sentence-transformers) (2.2.0)\n",
      "Requirement already satisfied: numpy in c:\\python312\\lib\\site-packages (from sentence-transformers) (1.26.2)\n",
      "Requirement already satisfied: scikit-learn in c:\\python312\\lib\\site-packages (from sentence-transformers) (1.3.2)\n",
      "Requirement already satisfied: scipy in c:\\python312\\lib\\site-packages (from sentence-transformers) (1.11.4)\n",
      "Requirement already satisfied: huggingface-hub>=0.15.1 in c:\\python312\\lib\\site-packages (from sentence-transformers) (0.20.3)\n",
      "Requirement already satisfied: Pillow in c:\\python312\\lib\\site-packages (from sentence-transformers) (10.1.0)\n",
      "Requirement already satisfied: filelock in c:\\python312\\lib\\site-packages (from huggingface-hub>=0.15.1->sentence-transformers) (3.13.1)\n",
      "Requirement already satisfied: fsspec>=2023.5.0 in c:\\python312\\lib\\site-packages (from huggingface-hub>=0.15.1->sentence-transformers) (2024.2.0)\n",
      "Requirement already satisfied: requests in c:\\python312\\lib\\site-packages (from huggingface-hub>=0.15.1->sentence-transformers) (2.31.0)\n",
      "Requirement already satisfied: pyyaml>=5.1 in c:\\python312\\lib\\site-packages (from huggingface-hub>=0.15.1->sentence-transformers) (6.0.1)\n",
      "Requirement already satisfied: typing-extensions>=3.7.4.3 in c:\\python312\\lib\\site-packages (from huggingface-hub>=0.15.1->sentence-transformers) (4.9.0)\n",
      "Requirement already satisfied: packaging>=20.9 in c:\\users\\asus\\appdata\\roaming\\python\\python312\\site-packages (from huggingface-hub>=0.15.1->sentence-transformers) (23.2)\n",
      "Requirement already satisfied: sympy in c:\\python312\\lib\\site-packages (from torch>=1.11.0->sentence-transformers) (1.12)\n",
      "Requirement already satisfied: networkx in c:\\python312\\lib\\site-packages (from torch>=1.11.0->sentence-transformers) (3.2.1)\n",
      "Requirement already satisfied: jinja2 in c:\\python312\\lib\\site-packages (from torch>=1.11.0->sentence-transformers) (3.1.3)\n",
      "Requirement already satisfied: colorama in c:\\python312\\lib\\site-packages (from tqdm->sentence-transformers) (0.4.6)\n",
      "Requirement already satisfied: regex!=2019.12.17 in c:\\python312\\lib\\site-packages (from transformers<5.0.0,>=4.32.0->sentence-transformers) (2023.12.25)\n",
      "Requirement already satisfied: tokenizers<0.19,>=0.14 in c:\\python312\\lib\\site-packages (from transformers<5.0.0,>=4.32.0->sentence-transformers) (0.15.2)\n",
      "Requirement already satisfied: safetensors>=0.4.1 in c:\\python312\\lib\\site-packages (from transformers<5.0.0,>=4.32.0->sentence-transformers) (0.4.2)\n",
      "Requirement already satisfied: joblib>=1.1.1 in c:\\python312\\lib\\site-packages (from scikit-learn->sentence-transformers) (1.3.2)\n",
      "Requirement already satisfied: threadpoolctl>=2.0.0 in c:\\python312\\lib\\site-packages (from scikit-learn->sentence-transformers) (3.2.0)\n",
      "Requirement already satisfied: MarkupSafe>=2.0 in c:\\python312\\lib\\site-packages (from jinja2->torch>=1.11.0->sentence-transformers) (2.1.3)\n",
      "Requirement already satisfied: charset-normalizer<4,>=2 in c:\\python312\\lib\\site-packages (from requests->huggingface-hub>=0.15.1->sentence-transformers) (3.3.2)\n",
      "Requirement already satisfied: idna<4,>=2.5 in c:\\python312\\lib\\site-packages (from requests->huggingface-hub>=0.15.1->sentence-transformers) (3.6)\n",
      "Requirement already satisfied: urllib3<3,>=1.21.1 in c:\\python312\\lib\\site-packages (from requests->huggingface-hub>=0.15.1->sentence-transformers) (2.0.7)\n",
      "Requirement already satisfied: certifi>=2017.4.17 in c:\\python312\\lib\\site-packages (from requests->huggingface-hub>=0.15.1->sentence-transformers) (2023.11.17)\n",
      "Requirement already satisfied: mpmath>=0.19 in c:\\python312\\lib\\site-packages (from sympy->torch>=1.11.0->sentence-transformers) (1.3.0)\n"
     ]
    },
    {
     "name": "stderr",
     "output_type": "stream",
     "text": [
      "WARNING: Ignoring invalid distribution ~ (C:\\Python312\\Lib\\site-packages)\n",
      "WARNING: Ignoring invalid distribution ~ (C:\\Python312\\Lib\\site-packages)\n"
     ]
    },
    {
     "name": "stdout",
     "output_type": "stream",
     "text": [
      "Requirement already satisfied: regex in c:\\python312\\lib\\site-packages (2023.12.25)\n"
     ]
    },
    {
     "name": "stderr",
     "output_type": "stream",
     "text": [
      "WARNING: Ignoring invalid distribution ~ (C:\\Python312\\Lib\\site-packages)\n",
      "WARNING: Ignoring invalid distribution ~ (C:\\Python312\\Lib\\site-packages)\n"
     ]
    },
    {
     "name": "stdout",
     "output_type": "stream",
     "text": [
      "Requirement already satisfied: langchain-community in c:\\python312\\lib\\site-packages (0.0.28)\n",
      "Requirement already satisfied: PyYAML>=5.3 in c:\\python312\\lib\\site-packages (from langchain-community) (6.0.1)\n",
      "Requirement already satisfied: SQLAlchemy<3,>=1.4 in c:\\python312\\lib\\site-packages (from langchain-community) (2.0.26)\n",
      "Requirement already satisfied: aiohttp<4.0.0,>=3.8.3 in c:\\python312\\lib\\site-packages (from langchain-community) (3.9.3)\n",
      "Requirement already satisfied: dataclasses-json<0.7,>=0.5.7 in c:\\python312\\lib\\site-packages (from langchain-community) (0.6.4)\n",
      "Requirement already satisfied: langchain-core<0.2.0,>=0.1.31 in c:\\python312\\lib\\site-packages (from langchain-community) (0.1.32)\n",
      "Collecting langsmith<0.2.0,>=0.1.0 (from langchain-community)\n",
      "  Using cached langsmith-0.1.27-py3-none-any.whl.metadata (13 kB)\n",
      "Requirement already satisfied: numpy<2,>=1 in c:\\python312\\lib\\site-packages (from langchain-community) (1.26.2)\n",
      "Requirement already satisfied: requests<3,>=2 in c:\\python312\\lib\\site-packages (from langchain-community) (2.31.0)\n",
      "Requirement already satisfied: tenacity<9.0.0,>=8.1.0 in c:\\python312\\lib\\site-packages (from langchain-community) (8.2.3)\n",
      "Requirement already satisfied: aiosignal>=1.1.2 in c:\\python312\\lib\\site-packages (from aiohttp<4.0.0,>=3.8.3->langchain-community) (1.3.1)\n",
      "Requirement already satisfied: attrs>=17.3.0 in c:\\python312\\lib\\site-packages (from aiohttp<4.0.0,>=3.8.3->langchain-community) (23.2.0)\n",
      "Requirement already satisfied: frozenlist>=1.1.1 in c:\\python312\\lib\\site-packages (from aiohttp<4.0.0,>=3.8.3->langchain-community) (1.4.1)\n",
      "Requirement already satisfied: multidict<7.0,>=4.5 in c:\\python312\\lib\\site-packages (from aiohttp<4.0.0,>=3.8.3->langchain-community) (6.0.5)\n",
      "Requirement already satisfied: yarl<2.0,>=1.0 in c:\\python312\\lib\\site-packages (from aiohttp<4.0.0,>=3.8.3->langchain-community) (1.9.4)\n",
      "Requirement already satisfied: marshmallow<4.0.0,>=3.18.0 in c:\\python312\\lib\\site-packages (from dataclasses-json<0.7,>=0.5.7->langchain-community) (3.20.2)\n",
      "Requirement already satisfied: typing-inspect<1,>=0.4.0 in c:\\python312\\lib\\site-packages (from dataclasses-json<0.7,>=0.5.7->langchain-community) (0.9.0)\n",
      "Requirement already satisfied: anyio<5,>=3 in c:\\python312\\lib\\site-packages (from langchain-core<0.2.0,>=0.1.31->langchain-community) (4.2.0)\n",
      "Requirement already satisfied: jsonpatch<2.0,>=1.33 in c:\\python312\\lib\\site-packages (from langchain-core<0.2.0,>=0.1.31->langchain-community) (1.33)\n",
      "Requirement already satisfied: packaging<24.0,>=23.2 in c:\\users\\asus\\appdata\\roaming\\python\\python312\\site-packages (from langchain-core<0.2.0,>=0.1.31->langchain-community) (23.2)\n",
      "Requirement already satisfied: pydantic<3,>=1 in c:\\python312\\lib\\site-packages (from langchain-core<0.2.0,>=0.1.31->langchain-community) (2.5.3)\n",
      "Requirement already satisfied: orjson<4.0.0,>=3.9.14 in c:\\python312\\lib\\site-packages (from langsmith<0.2.0,>=0.1.0->langchain-community) (3.9.15)\n",
      "Requirement already satisfied: charset-normalizer<4,>=2 in c:\\python312\\lib\\site-packages (from requests<3,>=2->langchain-community) (3.3.2)\n",
      "Requirement already satisfied: idna<4,>=2.5 in c:\\python312\\lib\\site-packages (from requests<3,>=2->langchain-community) (3.6)\n",
      "Requirement already satisfied: urllib3<3,>=1.21.1 in c:\\python312\\lib\\site-packages (from requests<3,>=2->langchain-community) (2.0.7)\n",
      "Requirement already satisfied: certifi>=2017.4.17 in c:\\python312\\lib\\site-packages (from requests<3,>=2->langchain-community) (2023.11.17)\n",
      "Requirement already satisfied: typing-extensions>=4.6.0 in c:\\python312\\lib\\site-packages (from SQLAlchemy<3,>=1.4->langchain-community) (4.9.0)\n",
      "Requirement already satisfied: greenlet!=0.4.17 in c:\\python312\\lib\\site-packages (from SQLAlchemy<3,>=1.4->langchain-community) (3.0.3)\n",
      "Requirement already satisfied: sniffio>=1.1 in c:\\python312\\lib\\site-packages (from anyio<5,>=3->langchain-core<0.2.0,>=0.1.31->langchain-community) (1.3.0)\n",
      "Requirement already satisfied: jsonpointer>=1.9 in c:\\python312\\lib\\site-packages (from jsonpatch<2.0,>=1.33->langchain-core<0.2.0,>=0.1.31->langchain-community) (2.4)\n",
      "Requirement already satisfied: annotated-types>=0.4.0 in c:\\python312\\lib\\site-packages (from pydantic<3,>=1->langchain-core<0.2.0,>=0.1.31->langchain-community) (0.6.0)\n",
      "Requirement already satisfied: pydantic-core==2.14.6 in c:\\python312\\lib\\site-packages (from pydantic<3,>=1->langchain-core<0.2.0,>=0.1.31->langchain-community) (2.14.6)\n",
      "Requirement already satisfied: mypy-extensions>=0.3.0 in c:\\python312\\lib\\site-packages (from typing-inspect<1,>=0.4.0->dataclasses-json<0.7,>=0.5.7->langchain-community) (1.0.0)\n",
      "Using cached langsmith-0.1.27-py3-none-any.whl (68 kB)\n",
      "Installing collected packages: langsmith\n"
     ]
    },
    {
     "name": "stderr",
     "output_type": "stream",
     "text": [
      "WARNING: Ignoring invalid distribution ~ (C:\\Python312\\Lib\\site-packages)\n",
      "WARNING: Ignoring invalid distribution ~ (C:\\Python312\\Lib\\site-packages)\n",
      "  WARNING: Failed to write executable - trying to use .deleteme logic\n",
      "ERROR: Could not install packages due to an OSError: [WinError 5] Access is denied: 'C:\\\\Python312\\\\Scripts\\\\langsmith.exe' -> 'C:\\\\Python312\\\\Scripts\\\\langsmith.exe.deleteme'\n",
      "Consider using the `--user` option or check the permissions.\n",
      "\n"
     ]
    },
    {
     "name": "stdout",
     "output_type": "stream",
     "text": [
      "Requirement already satisfied: InstructorEmbedding in c:\\python312\\lib\\site-packages (1.0.1)\n",
      "Requirement already satisfied: huggingface-hub in c:\\python312\\lib\\site-packages (0.20.3)\n",
      "Requirement already satisfied: filelock in c:\\python312\\lib\\site-packages (from huggingface-hub) (3.13.1)\n",
      "Requirement already satisfied: fsspec>=2023.5.0 in c:\\python312\\lib\\site-packages (from huggingface-hub) (2024.2.0)\n",
      "Requirement already satisfied: requests in c:\\python312\\lib\\site-packages (from huggingface-hub) (2.31.0)\n",
      "Requirement already satisfied: tqdm>=4.42.1 in c:\\python312\\lib\\site-packages (from huggingface-hub) (4.66.1)\n",
      "Requirement already satisfied: pyyaml>=5.1 in c:\\python312\\lib\\site-packages (from huggingface-hub) (6.0.1)\n",
      "Requirement already satisfied: typing-extensions>=3.7.4.3 in c:\\python312\\lib\\site-packages (from huggingface-hub) (4.9.0)\n",
      "Requirement already satisfied: packaging>=20.9 in c:\\users\\asus\\appdata\\roaming\\python\\python312\\site-packages (from huggingface-hub) (23.2)\n",
      "Requirement already satisfied: colorama in c:\\python312\\lib\\site-packages (from tqdm>=4.42.1->huggingface-hub) (0.4.6)\n",
      "Requirement already satisfied: charset-normalizer<4,>=2 in c:\\python312\\lib\\site-packages (from requests->huggingface-hub) (3.3.2)\n",
      "Requirement already satisfied: idna<4,>=2.5 in c:\\python312\\lib\\site-packages (from requests->huggingface-hub) (3.6)\n",
      "Requirement already satisfied: urllib3<3,>=1.21.1 in c:\\python312\\lib\\site-packages (from requests->huggingface-hub) (2.0.7)\n",
      "Requirement already satisfied: certifi>=2017.4.17 in c:\\python312\\lib\\site-packages (from requests->huggingface-hub) (2023.11.17)\n",
      "Requirement already satisfied: faiss-cpu in c:\\python312\\lib\\site-packages (1.8.0)\n",
      "Requirement already satisfied: numpy in c:\\python312\\lib\\site-packages (from faiss-cpu) (1.26.2)\n",
      "Requirement already satisfied: python-dotenv in c:\\python312\\lib\\site-packages (1.0.1)\n",
      "Requirement already satisfied: spacy in c:\\python312\\lib\\site-packages (3.7.2)\n",
      "Requirement already satisfied: spacy-legacy<3.1.0,>=3.0.11 in c:\\python312\\lib\\site-packages (from spacy) (3.0.12)\n",
      "Requirement already satisfied: spacy-loggers<2.0.0,>=1.0.0 in c:\\python312\\lib\\site-packages (from spacy) (1.0.5)\n",
      "Requirement already satisfied: murmurhash<1.1.0,>=0.28.0 in c:\\python312\\lib\\site-packages (from spacy) (1.0.10)\n",
      "Requirement already satisfied: cymem<2.1.0,>=2.0.2 in c:\\python312\\lib\\site-packages (from spacy) (2.0.8)\n",
      "Requirement already satisfied: preshed<3.1.0,>=3.0.2 in c:\\python312\\lib\\site-packages (from spacy) (3.0.9)\n",
      "Requirement already satisfied: thinc<8.3.0,>=8.1.8 in c:\\python312\\lib\\site-packages (from spacy) (8.2.2)\n",
      "Requirement already satisfied: wasabi<1.2.0,>=0.9.1 in c:\\python312\\lib\\site-packages (from spacy) (1.1.2)\n",
      "Requirement already satisfied: srsly<3.0.0,>=2.4.3 in c:\\python312\\lib\\site-packages (from spacy) (2.4.8)\n",
      "Requirement already satisfied: catalogue<2.1.0,>=2.0.6 in c:\\python312\\lib\\site-packages (from spacy) (2.0.10)\n",
      "Requirement already satisfied: weasel<0.4.0,>=0.1.0 in c:\\python312\\lib\\site-packages (from spacy) (0.3.4)\n",
      "Requirement already satisfied: typer<0.10.0,>=0.3.0 in c:\\python312\\lib\\site-packages (from spacy) (0.9.0)\n",
      "Requirement already satisfied: smart-open<7.0.0,>=5.2.1 in c:\\python312\\lib\\site-packages (from spacy) (6.4.0)\n",
      "Requirement already satisfied: tqdm<5.0.0,>=4.38.0 in c:\\python312\\lib\\site-packages (from spacy) (4.66.1)\n",
      "Requirement already satisfied: requests<3.0.0,>=2.13.0 in c:\\python312\\lib\\site-packages (from spacy) (2.31.0)\n",
      "Requirement already satisfied: pydantic!=1.8,!=1.8.1,<3.0.0,>=1.7.4 in c:\\python312\\lib\\site-packages (from spacy) (2.5.3)\n",
      "Requirement already satisfied: jinja2 in c:\\python312\\lib\\site-packages (from spacy) (3.1.3)\n",
      "Requirement already satisfied: setuptools in c:\\python312\\lib\\site-packages (from spacy) (69.1.0)\n",
      "Requirement already satisfied: packaging>=20.0 in c:\\users\\asus\\appdata\\roaming\\python\\python312\\site-packages (from spacy) (23.2)\n",
      "Requirement already satisfied: langcodes<4.0.0,>=3.2.0 in c:\\python312\\lib\\site-packages (from spacy) (3.3.0)\n",
      "Requirement already satisfied: numpy>=1.19.0 in c:\\python312\\lib\\site-packages (from spacy) (1.26.2)\n",
      "Requirement already satisfied: annotated-types>=0.4.0 in c:\\python312\\lib\\site-packages (from pydantic!=1.8,!=1.8.1,<3.0.0,>=1.7.4->spacy) (0.6.0)\n",
      "Requirement already satisfied: pydantic-core==2.14.6 in c:\\python312\\lib\\site-packages (from pydantic!=1.8,!=1.8.1,<3.0.0,>=1.7.4->spacy) (2.14.6)\n",
      "Requirement already satisfied: typing-extensions>=4.6.1 in c:\\python312\\lib\\site-packages (from pydantic!=1.8,!=1.8.1,<3.0.0,>=1.7.4->spacy) (4.9.0)\n",
      "Requirement already satisfied: charset-normalizer<4,>=2 in c:\\python312\\lib\\site-packages (from requests<3.0.0,>=2.13.0->spacy) (3.3.2)\n",
      "Requirement already satisfied: idna<4,>=2.5 in c:\\python312\\lib\\site-packages (from requests<3.0.0,>=2.13.0->spacy) (3.6)\n",
      "Requirement already satisfied: urllib3<3,>=1.21.1 in c:\\python312\\lib\\site-packages (from requests<3.0.0,>=2.13.0->spacy) (2.0.7)\n",
      "Requirement already satisfied: certifi>=2017.4.17 in c:\\python312\\lib\\site-packages (from requests<3.0.0,>=2.13.0->spacy) (2023.11.17)\n",
      "Requirement already satisfied: blis<0.8.0,>=0.7.8 in c:\\python312\\lib\\site-packages (from thinc<8.3.0,>=8.1.8->spacy) (0.7.11)\n",
      "Requirement already satisfied: confection<1.0.0,>=0.0.1 in c:\\python312\\lib\\site-packages (from thinc<8.3.0,>=8.1.8->spacy) (0.1.4)\n",
      "Requirement already satisfied: colorama in c:\\python312\\lib\\site-packages (from tqdm<5.0.0,>=4.38.0->spacy) (0.4.6)\n",
      "Requirement already satisfied: click<9.0.0,>=7.1.1 in c:\\python312\\lib\\site-packages (from typer<0.10.0,>=0.3.0->spacy) (8.1.7)\n",
      "Requirement already satisfied: cloudpathlib<0.17.0,>=0.7.0 in c:\\python312\\lib\\site-packages (from weasel<0.4.0,>=0.1.0->spacy) (0.16.0)\n",
      "Requirement already satisfied: MarkupSafe>=2.0 in c:\\python312\\lib\\site-packages (from jinja2->spacy) (2.1.3)\n"
     ]
    }
   ],
   "source": [
    "# !pip install langchain\n",
    "# !pip install sentence_transformers\n",
    "# !pip install pypdf2\n",
    "# !pip install transformers\n",
    "# !pip install sentence-transformers\n",
    "# !pip install regex\n",
    "# !pip install langchain-community\n",
    "# !pip install InstructorEmbedding\n",
    "# !pip install huggingface-hub\n",
    "# !pip install faiss-cpu\n",
    "# !pip install python-dotenv\n"
   ]
  },
  {
   "cell_type": "code",
   "execution_count": 3,
   "metadata": {},
   "outputs": [],
   "source": [
    "import os\n",
    "from PyPDF2 import PdfReader\n",
    "from langchain.text_splitter import CharacterTextSplitter\n",
    "from langchain_community.embeddings import HuggingFaceInferenceAPIEmbeddings\n",
    "from langchain_community.vectorstores import FAISS\n",
    "from langchain.chains import ConversationalRetrievalChain\n",
    "from langchain.llms import HuggingFaceHub\n",
    "import re"
   ]
  },
  {
   "cell_type": "code",
   "execution_count": 4,
   "metadata": {},
   "outputs": [],
   "source": [
    "# to get pdf texts\n",
    "def get_pdf_text(pdf_docs):\n",
    "    text = \"\"\n",
    "    for pdf in pdf_docs:\n",
    "        pdf_reader = PdfReader(pdf)\n",
    "\n",
    "        for page in pdf_reader.pages:\n",
    "            text += page.extract_text()\n",
    "    return text"
   ]
  },
  {
   "cell_type": "code",
   "execution_count": 14,
   "metadata": {},
   "outputs": [],
   "source": [
    "\n",
    "# preprocess the text\n",
    "\n",
    "def preprocess(raw_text):\n",
    "\n",
    "    # Remove extra whitespaces and newline characters\n",
    "    cleaned_text = re.sub(r'\\s+', ' ', raw_text)\n",
    "    # Remove leading and trailing whitespaces\n",
    "    # cleaned_text = cleaned_text.strip()\n",
    "    return cleaned_text"
   ]
  },
  {
   "cell_type": "code",
   "execution_count": 15,
   "metadata": {},
   "outputs": [],
   "source": [
    "# to get text chunks\n",
    "def get_text_chunks(text):\n",
    "    text_splitter = CharacterTextSplitter(\n",
    "        separator=\"\\n\",\n",
    "        chunk_size=1500,\n",
    "        chunk_overlap=100,\n",
    "        length_function=len\n",
    "    )\n",
    "\n",
    "    chunks = text_splitter.split_text(text)\n",
    "    return chunks"
   ]
  },
  {
   "cell_type": "code",
   "execution_count": 16,
   "metadata": {},
   "outputs": [],
   "source": [
    "# make a vector store if you want through api\n",
    "def get_vectorstore(text_chunks):\n",
    "    inference_api_key = os.getenv(\"HUGGINGFACEHUB_API_TOKEN\")\n",
    "    embeddings = HuggingFaceInferenceAPIEmbeddings(api_key = inference_api_key, model_name=\"hkunlp/instructor-xl\")\n",
    "    vectorstore = FAISS.from_texts(texts = text_chunks, embedding = embeddings)\n",
    "    return vectorstore"
   ]
  },
  {
   "cell_type": "code",
   "execution_count": 17,
   "metadata": {},
   "outputs": [],
   "source": [
    "# # without using api\n",
    "# from langchain_community.embeddings import HuggingFaceEmbeddings\n",
    "\n",
    "# def get_vectorstore(text_chunks):\n",
    "    \n",
    "#     embeddings = HuggingFaceEmbeddings(model_name=\"hkunlp/instructor-xl\")\n",
    "#     vectorstore = FAISS.from_texts(text_chunks, embeddings)\n",
    "#     return vectorstore"
   ]
  },
  {
   "cell_type": "code",
   "execution_count": 42,
   "metadata": {},
   "outputs": [],
   "source": [
    "# get the conversation chain\n",
    "def get_conversation_chain(vectorstore):\n",
    "    \n",
    "    llm = HuggingFaceHub( repo_id=\"mistralai/Mistral-7B-Instruct-v0.2\", model_kwargs={\"temperature\": 0.5, \"max_length\": 64, \"max_new_tokens\":500})\n",
    "\n",
    "    conversation_chain = ConversationalRetrievalChain.from_llm(\n",
    "        llm=llm,\n",
    "        chain_type='stuff',\n",
    "        retriever=vectorstore.as_retriever(search_kwargs={\"k\": 1}),\n",
    "    )\n",
    "    return conversation_chain"
   ]
  },
  {
   "cell_type": "code",
   "execution_count": 43,
   "metadata": {},
   "outputs": [],
   "source": [
    "# Define chat function\n",
    "\n",
    "def conversation_chat(conversation_chain, query):\n",
    "    result = conversation_chain({\"question\": query, 'chat_history': []})\n",
    "    return result[\"answer\"]"
   ]
  },
  {
   "cell_type": "code",
   "execution_count": 44,
   "metadata": {},
   "outputs": [],
   "source": [
    "# main function\n",
    "\n",
    "def main(pdf_docs):\n",
    "    \n",
    "    # Get PDF text\n",
    "    raw_text = get_pdf_text(pdf_docs)\n",
    "\n",
    "    # reprocess text\n",
    "    text = preprocess(raw_text)\n",
    "\n",
    "    # Get text chunks\n",
    "    text_chunks = get_text_chunks(text)\n",
    "    print(text_chunks)\n",
    "    # Create vector store\n",
    "    vectorstore = get_vectorstore(text_chunks)\n",
    "\n",
    "    # creating the chain\n",
    "    conversation_chain = get_conversation_chain(vectorstore)\n",
    "\n",
    "    return conversation_chain\n"
   ]
  },
  {
   "cell_type": "code",
   "execution_count": 47,
   "metadata": {},
   "outputs": [
    {
     "name": "stdout",
     "output_type": "stream",
     "text": [
      "['FOR IMMEDIATE RELEASE HALLIBURTON ANNOUNCES FIRST QUARTER 2023 RESULTS • Net income of $0.72 per diluted share. • Net income per diluted share more than doubled from Q1 2022. • Revenue of $5.7 billion , increased 33% year-over-year. • Operating margin of 17.2%, increased 530 basis points year -over-year. HOUSTON – April 25, 2023 – Halliburton Company (NYSE: HAL) announced today net income of $651 million , or $0.72 per diluted share, for the first quarter of 2023 . This compares to net income for the first quarter of 2022 of $263 million, or $0.29 per diluted share. Halliburton\\'s total revenue for the first quarter of 2023 was $5.7 billion compared to total revenue of $4.3 billion in the first quarter of 2022 . Repo rted operating income was $977 million in the first quarter of 2023 compared to reported operating income of $511 million and adjusted operating income, excluding impairments and other charges, of $533 million in the first quarter of 2022 . “Halliburton’s performance in the first quarter again demonstrated the earnings power of our strategy, the strength of our competitive position globally and execution for our customers. Total company revenue increased 33% and operating income grew 91% compared to the first quarter of 2022. Both of our divisions delivered strong margin performance,” commented Jeff Miller, Chairman, President and CEO. \"My Halliburton outlook -- for both the current year and the long -term -- is strong. We hear it from our customers, and we see it in our first quarter results. Our customers are clearly motivated to produce more oil and gas and service capacity is tight. Our strong execution culture, differentiated technology portfolio, and collaborative approach with customers - drive margi n improvements and growth across our business. I am confident that we will execute our strategic priorities and deliver shareholder returns. I expect the execution of our strategy will deliver significant and growing free cash flow generation for Halliburt on,” concluded Miller . Halliburton/Page 2 Operating Segments Completion and Production Completion and Production revenue in the first quarter of 2023 was $3.4 billion , an increase of $1.1 billion , or 45%, when compared to the first quarter of 2022 , while operating income was $666 million , an increase of $370 million , or 125% . These results were driven by increased pressure pumping services and completion tool sales globally and improved artificial lift services in North America land and Kuwait. Drilling and Evaluation Drilling and Evaluation revenue in the first quarter of 2023 was $2.3 billion , an increase of $337 million , or 17%, when compared to the first quarter of 2022 , while operating income was $369 million , an increase of $75 million , or 26%. These results were primarily due to an increase in drilling -related services, along with improved wireline and testing services globally. This increase was partially offset by lower software sales in Mexico. Both divisional results were negatively impacted in the first quarter of 2023 when compared to the first quarter of 2022, resulting from the sale of our Russian operations during 2022. Geographic Regions North America North America revenue in the first quarter of 2023 was $2.8 billion , a 44% increase when compared to the first quarter of 2022 . This increase was primarily driven by improved stimulation activity and pricing gains, in addition to higher well construction services, artificial lift activity, and wireline services in North America land, as well as improved activity in the U.S. Gulf of Mexico across multiple product service lines. International International revenue in the first quarter of 2023 was $ 2.9 billion , a 23% increase when compared to the first quarter of 202 2. Latin America revenue in the first quarter of 2023 was $ 915 million , an increase of 40% year over year , due primarily to increased well construction services and stimulation activity in Mexico and Argentina, higher completion tool sales across the regi on, and improved project management activity in Mexico. This increase was partially offset by lower software sales in Mexico. Europe/Africa revenue in the first quarter of 2023 was $ 662 million , a decrease of 2% year over year , primarily resulting from our exit from Russia, along with decreased activity across Halliburton/Page 3 multiple product services lines in Norway. This decrease was offset in part by increased well construction services in Africa. Middle East/Asia revenue in the first quarte r of 2023 was $1.3 billion , an increase of 30% year over year , primarily due to improved activity across multiple product service lines in Saudi Arabia, higher completion tool sales, improved well construction services, and increased project management act ivity across the region. Partially offsetting this increase was lower stimulation activity in Oman and Kuwait. Other Financial Items During the first quarter of 2023, Halliburton repurchased approximately $100 million of common stock. Selective Technol ogy & Highlights • Halliburton and Siguler Guff & Company, LP announced the launch of Envana Software Partners, LLC. The new venture provides critical emissions management software -as-a-service (SaaS) solutions to track greenhouse gas emissions in the oil and gas industry and beyond. The venture’s first offering, Envana Catalyst, is a SaaS solution that helps increase transparency of the environmental impact of drilling, completions, and production operations. It can improve the visibility of greenhouse gas emissions tracking and forecasting company wide and can provide support for actionable recommendations throughout upstream asset life, from planning and design through execution. • Halliburton announced that Hess Corporation has selected the Halliburton Landmark DecisionSpace® 365 Well Construction applications powered by iEnergy® Hybrid Cloud to plan, design, and construct safe, cost effective, and productive wells. DecisionSpace 365 applicati ons empower an agile enterprise and bring planning, design, and operations together to create a digital twin of the well construction process. The applications provide operators real time and efficient collaboration with oilfield service providers and dril ling contractors. With DecisionSpace 365 powered by iEnergy hybrid cloud, Hess can leverage predictive drilling analytics using artificial intelligence (AI)/machine learning (ML) and gain comprehensive oversight across the entire well construction lifecycl e. • Halliburton announced that Petrobras will use the Landmark iEnergy® digital platform to address its subsurface challenges. The companies executed a contract that gives Petrobras access to the entire Halliburton Landmark DecisionSpace® 365 Geoscience Suite including cloud -based, next -generation technologies like Seismic Engine, Scalable Earth Modeling, Assisted Lithology Interpretation, DS365.ai, and Neftex® Predictions to support its strategic exploration and production programs. The iEnergy digital platform, which powers DecisionSpace 365 cloud applications, is the E&P industry’s first hybrid cloud designed to deploy, integrate, and manage Halliburton/Page 4 sophisticated cloud applications. The digital platform contains innovative solutions for geology, geophysics, and engineering in a public cloud, along with high -performance processing and machine learning. • Halliburton announced that Repsol implemented the Halliburton Landmark DecisionSpace® 365 Well Construction Suite as its preferred digital solutio n to automate and streamline its well design process. The deployment provides scalability, flexibility, integration, and third -party collaboration and accelerates the adoption of machine learning and artificial intelligence across the drilling and wells or ganization. The Well Construction Suite and Digital Well Program® help Repsol standardize its well design process and automate routine work to increase efficiency and minimize down time. The SmartDigital® co-innovation service delivers tailored workflows a nd new components to further reduce cycle time and provide greater data quality throughout the well workflow process. • Halliburton announced a new Halliburton Digital Center (HDC) in Saudi Arabia that will serve as the primary hub for real -time and remote operations in country. This center co -locates Halliburton product lines including Halliburton Project Management (HPM) in a single environment, accelerating adoption of new digital applications and platforms and utilizing iEnergy. The center enables the s caled deployment of the integrated design of service (iDOS) allowing our product lines to plan a well collaboratively for HPM. • Halliburton won three 2023 Hart Energy Meritorious Awards for Engineering (MEA) Innovation. MEA honors engineering excellence ac ross the upstream energy industry and recognizes new products and technologies that demonstrate innovation in concept, design and application. Halliburton won the \"Machine Learning and AI\" category with LOGIX® Autonomous Drilling Platform\\'s Auto Steer Modu le, the \"Non Fracturing Completions\" category with Fuzion® -EH electro -hydraulic downhole wet - mate connector, and the \"Formation Evaluation\" category with StrataStar® Deep Azimuthal Resistivity Service. • Halliburton announced the implementation of the Auto Pumpdown™ service that enables wireline and pump automation during unconventional completions operations. This service controls fluid pumps and a wireline unit as a single, fully automated, closed -loop system to maximize Halliburton’s plug and perforating performance and efficiency. The system executes operations to plan and optimizes equipment operation for improved consistency. It enhances operations by automating tasks previously prone to human inconsistencies, helps reduce risk by providing prompt feedb ack to dynamic downhole conditions, thus help prevent unplanned and costly interventions. These improved consistencies create more efficient operations and reduce required fluids for tool conveyance. • Halliburton introduced the RockJet™ family of reservoir -optimized shaped charges. The RockJet family of charges was developed at the Advanced Perforating Flow Halliburton/Page 5 Laboratory at the Halliburton Jet Research Center using real rock under downhole conditions to optimize downhole performance. Halliburton’s RockJet char ges are the first certified using the American Petroleum Institute’s new perforation witnessed test protocol. The charges allow operators to enhance well productivity by providing optimum reservoir connectivity through deeper formation penetration and a la rger perforation tunnel diameter downhole. RockJet shaped charges help increase production and improve well productivity and injectivity by improving reservoir contact through deep and clean tunnels that extend beyond the damage zone. • Halliburton Labs ann ounced it selected three new companies to participate in its collaborative environment to bring on the future of energy faster. As Halliburton Labs participants, FuelX, LiNa Energy, and Solaires will receive access to a broad range of industrial capabiliti es, technical expertise, and mentorships to scale their respective businesses. Halliburton Labs helps early -stage companies achieve commercialization milestones with supportive resources that expand customer and investor prospects to enable growth. • Hallib urton announced the addition of Ms. Janet Weiss and Mr. Maurice Smith to its board of directors. The appointments were effective Feb. 21, and both will stand for election by shareholders at the annual meeting on May 17, 2023. • Halliburton announced that Shannon Slocum, senior vice president, Global Business Development and Marketing, has been promoted to the role of president, Eastern Hemisphere. About Halliburton Halliburton is one of the world’s leading providers of products and services to the energy industry. Founded in 1919, we create innovative technologies, products, and services that help our customers maximize their value throughout the life cycle of an ass et and advance a sustainable energy future. Visit us at www.halliburton.com ; connect with us on Facebook , Twitter , LinkedIn , Instagram and YouTube . Halliburton/Page 6 Forward -looking Statements The statements in this press release that are not historical statements, including statements regarding future financial performance and our intentions with respect to our shareholder return framework, are forward -looking statements within the meaning of the f ederal securities laws. These statements are subject to numerous risks and uncertainties, many of which are beyond the company\\'s control, which could cause actual results to differ materially from the results expressed or implied by the statements. These r isks and uncertainties include, but are not limited to: changes in the demand for or price of oil and/or natural gas, including as a result of development of alternative energy sources, general economic conditions such as inflation and recession, the abili ty of the OPEC+ countries to agree on and comply with production quotas, or other causes; changes in capital spending by our customers; the modification, continuation or suspension of our shareholder return framework, including the payment of dividends and purchases of our stock, which will be subject to the discretion of our Board of Directors and may depend on a variety of factors, including our results of operations and financial condition, growth plans, capital requirements and other conditions existing when any payment or purchase decision is made; potential catastrophic events related to our operations, and related indemnification and insurance; protection of intellectual property rights; cyber -attacks and data security; compliance with environmental l aws; changes in government regulations and regulatory requirements, particularly those related to oil and natural gas exploration, the environment, radioactive sources, explosives, chemicals, hydraulic fracturing services, and climate -related initiatives; assumptions regarding the generation of future taxable income, and compliance with laws related to and disputes with taxing authorities regarding income taxes; risks of international operations, including risks relating to unsettled political conditions, w ar, including the ongoing Russia and Ukraine conflict and any expansion of that conflict, the effects of terrorism, foreign exchange rates and controls, international trade and regulatory controls and sanctions, and doing business with national oil compani es; weather -related issues, including the effects of hurricanes and tropical storms; delays or failures by customers to make payments owed to us; infrastructure issues in the oil and natural gas industry; availability and cost of highly skilled labor and r aw materials; and agreement with respect to and completion of potential dispositions, acquisitions and integration and success of acquired businesses and operations of joint ventures. Halliburton\\'s Form 10 -K for the year ended December 31, 2022, recent Cur rent Reports on Form 8 -K and other Securities and Exchange Commission filings discuss some of the important risk factors identified that may affect Halliburton\\'s business, results of operations, and financial condition. Halliburton undertakes no obligation to revise or update publicly any forward -looking statements for any reason. Halliburton/Page 7 HALLIBURTON COMPANY Condensed Consolidated Statements of Operations (Millions of dollars and shares except per share data) (Unaudited) Three Months Ended March 31 December 31 2023 2022 2022 Revenue: Completion and Production $ 3,409 $ 2,353 $ 3,182 Drilling and Evaluation 2,268 1,931 2,400 Total revenue $ 5,677 $ 4,284 $ 5,582 Operating income : Completion and Production $ 666 $ 296 $ 659 Drilling and Evaluation 369 294 387 Corporate and other (58) (57) (70) Impairments and other charges (a) — (22) — Total operating income 977 511 976 Interest expense, net (79) (107) (74) Loss on early extinguishment of debt (b) — (42) — Other, net (69) (30) (60) Income before income taxes 829 332 842 Income tax provision (c) (174) (68) (177) Net income $ 655 $ 264 $ 665 Net income attributable to noncontrolling interest (4) (1) (9) Net income attributable to company $ 651 $ 263 $ 656 Basic and diluted net income per share $ 0.72 $ 0.29 $ 0.72 Basic weighted average common shares outstanding 904 899 906 Diluted weighted average common shares outstanding 907 903 910 (a) See Footnote Table 1 for details of the impairments and other charges recorded during the three months ended March 31, 2022. (b) During the three months ended March 31, 2022, Halliburton recognized a $42 million loss on extinguishment of debt related to the early redemption of $600 million aggregate principal amount of senior notes. (c) The tax provision includes the tax effect related to the loss on early extinguishment of debt and impairments and other charges during the three months ended March 31, 2022. See Footnote Table 1 for Reconciliation of As Reported Operating Income to Adjusted Operating Income . Halliburton/Page 8 HALLIBURTON COMPANY Condensed Consolidated Balance Sheets (Millions of dollars) (Unaudited) March 31 December 31 2023 2022 Assets Current assets: Cash and equivalents $ 1,879 $ 2,346 Receivables, net 5,195 4,627 Inventories 3,133 2,923 Other current assets 1,038 1,056 Total current assets 11,245 10,952 Property, plant, and equipment, net 4,399 4,348 Goodwill 2,829 2,829 Deferred income taxes 2,574 2,636 Operating lease right -of-use assets 940 913 Other assets 1,632 1,577 Total assets $ 23,619 $ 23,255 Liabilities and Shareholders’ Equity Current liabilities: Accounts payable $ 3,180 $ 3,121 Accrued employee compensation and benefits 474 634 Current portion of operating lease liabilities 227 224 Other current liabilities 1,385 1,366 Total current liabilities 5,266 5,345 Long -term debt 7,929 7,928 Operating lease liabilities 812 791 Employee compensation and benefits 377 408 Other liabilities 790 806 Total liabilities 15,174 15,278 Company shareholders’ equity 8,415 7,948 Noncontrolling interest in consolidated subsidiaries 30 29 Total shareholders’ equity 8,445 7,977 Total liabilities and shareholders’ equity $ 23,619 $ 23,255 Halliburton/Page 9 HALLIBURTON COMPANY Condensed Consolidated Statements of Cash Flows (Millions of dollars) (Unaudited) Three Months Ended March 31 2023 2022 Cash flows from operating activities: Net income $ 655 $ 264 Adjustments to reconcile net income to cash flows from operating activities: Depreciation, depletion, and amortization 241 232 Impairments and other charges — 22 Working capital (a) (728) (386) Other operating activities (46) (182) Total cash flows provided by (used in) operating activities 122 (50) Cash flows from investing activities: Capital expenditures (268) (189) Proceeds from sales of property, plant, and equipment 41 56 Other investing activities (68) (22) Total cash flows used in investing activities (295) (155) Cash flows from financing activities: Dividends to shareholders (145) (108) Stock repurchase program (100) — Payments on long -term borrowings — (640) Other financing activities (4) 80 Total cash flows used in financing activities (249) (668) Effect of exchange rate changes on cash (45) (17) Decrease in cash and equivalents (467) (890) Cash and equivalents at beginning of period 2,346 3,044 Cash and equivalents at end of period $ 1,879 $ 2,154 (a) Working capital includes receivables, inventories, and accounts payable. See Footnote Table 2 for Reconciliation of Cash Flows from Operating Activities to Free Cash Flow . Halliburton/Page 10 HALLIBURTON COMPANY Revenue and Operating Income Comparison By Operating Segment and Geographic Region (Millions of dollars) (Unaudited) Three Months Ended March 31 December 31 Revenue 2023 2022 2022 By operating segment: Completion and Production $ 3,409 $ 2,353 $ 3,182 Drilling and Evaluation 2,268 1,931 2,400 Total revenue $ 5,677 $ 4,284 $ 5,582 By geographic region: North America $ 2,765 $ 1,925 $ 2,611 Latin America 915 653 945 Europe/Africa/CIS 662 677 657 Middle East/Asia 1,335 1,029 1,369 Total revenue $ 5,677 $ 4,284 $ 5,582 Operating Income By operating segment: Completion and Production $ 666 $ 296 $ 659 Drilling and Evaluation 369 294 387 Total Operations 1,035 590 1,046 Corporate and other (58) (57) (70) Impairments and other charges — (22) — Total operating income $ 977 $ 511 $ 976 See Footnote Table 1 for Reconciliation of As Reported Operating Income to Adjusted Operating Income . Halliburton/Page 11 FOOTNOTE TABLE 1 HALLIBURTON COMPANY Reconciliation of As Reported Operating Income to Adjusted Operating Income (Millions of dollars) (Unaudited) Three Months Ended March 31 December 31 2023 2022 2022 As reported operating income $ 977 $ 511 $ 976 Impairments and other charges : Receivables — 16 — Other — 6 — Total impairments and other charges (a) — 22 — Adjusted operating income (b) (c) $ 977 $ 533 $ 976 (a) During the three months ended March 31, 2022, Halliburton recorded $22 million of impairments and other charges, primarily related to our assets in Ukraine. (b) Management believes that operating income adjusted for impairments and other charges is useful to investors to assess and understand operating performance, especially when comparing those results with previous and subsequent periods or forecasting performance for future periods, primarily because management views the excluded items to be outside of the company\\'s normal operating results. Management analyzes operating income without the impact of these items as an indicator of performance, to identify underlying trends in the business, and to establish operational goals. The adjustments remove the effect of these items. Adjusted operating income is calculated as: “As reported operating income ” plus \"Total impairments and other charges \" for the respective periods. (c) We calculate operating margin by dividing reported operating income by reported revenue. We calculate adjusted operating margin by dividing adjusted operating income by reported revenue. Halliburton/Page 12 FOOTNOTE TABLE 2 HALLIBURTON COMPANY Reconciliation of Cash Flows from Operating Activities to Free Cash Flow (Millions of dollars) (Unaudited) Three Months Ended March 31 December 31 2023 2022 2022 Total cash flows provided by (used in) operating activities $ 122 $ (50) $ 1,163 Capital expenditures (268) (189) (350) Proceeds from sales of property, plant, and equipment 41 56 43 Free cash flow (a) $ (105) $ (183) $ 856 (a) Free Cash Flow is a non -GAAP financial measure which is calculated as “Total cash flows provided by (used in) operating activities” less “Capital expenditures” plus “Proceeds from sales of property, plant, and equipment.” Management believes that Free Cash Flow is a key measure to assess liquidity of the business and is consistent with the disclosures of Halliburton\\'s direct, large -cap competitors. Halliburton/Page 13 Conference Call Details Halliburton Company (NYSE: HAL) will host a conference call on Tuesday, April 25, 2023, to discuss its first quarter 2023 financial results. The call will begin at 8 a.m. CT (9 a.m. ET). Please visit the Halliburton website to listen to the call via live webcast. A recorded version will be available under the same link immediately following the conclusion of the conference call. You can also pre -regis ter for the conference call and obtain your dial in number and passcode by clicking here . ### CONTACTS Investors Relatio ns Contact David Coleman Investors@Halliburton.com 281-871-2688 Press Contact Brad Leone PR@Halliburton.com 281-871-2601 Fact Sheet Daniel Bresette, President ∙ (202) 628 -1400 ∙ eesi .org ∙ 1020 19th St. NW, Ste. 400 ∙ Washington, DC 20036 Daniel Bresette, President ∙ (202) 628 -1400 ∙ eesi .org ∙ 1020 19th St. NW, Ste. 400 ∙ Washington, DC 20036 1 “Clean Economy Works: IRA One -Year Review ” (August 14, 2023). Environmental Entrepreneurs, https://e2.org/reports/clean -economy -works-2023/ 2 “United States Energy and Employment Report 2023” (June 2023). U.S. Department of Energy, www.energy.gov/policy/us -energy-employment -jobs-report-useer 3 “Energy Employment by State: 2023” (June 2023). U.S. Department of Energy, www.energy.gov/sites/default/files/2023 -06/2023%20USEER%20States%20Complete.pdf 4 “Electric Power Generation, Transmission & Distribution ” (accessed No vember 2, 2023). Data USA, https://datausa.io/profile/naics/electric -power-generation -transmission -distribution 5 “Fastest Growing Occupations ” (Septemb er 3, 2023). U.S. Bureau of Labor Statistics, www.bls.gov/ooh/fastest -growing.htm 6 “Employment in Transportation: Annual Employment in Transportation and Related Industries ” (2023). U.S. Depa rtment of Transportation Bureau of Transportation Statistics, https://data.bts.gov/stories/s/Transportation -Economic -Trends-Transportation -Empl/caxh-t8jd/ 7 “2022 Public Transportation Fact Book ” (January 2023). American Public Transportation Association, www.apta.com/wp -content/uploads/APTA -2022-Public-Transportation -Fact-Book.pdf 8 “Adaptation Jobs Explainer: Understanding this Critical and Growing Workforce ” (September 23, 2021). Environmental and Energy Study Institute, www.eesi.org/articles/view/adaptation -jobs-explainer -understanding -this-critical-and-growing -workforce 9 “ASAP Jobs Database ” (unpublished data). American Society of Adaptation Professionals. 10 “The Local Economic Impact of Flood -Resilient Infrastructure Projects ” (December 8, 2020). The Johns Hopkins University 21st Century Cities Initiative and American Flood Coalition, https://assets.floodcoalition.org/2020/12/d5f501c65174d5402f4aff96e8103387 -AFC-JHU-economic -impact-of- flood-resilient-infrastructure.pdf 11 “Biden -Harris Administration Announces $4.9 Billion in Funding for Transformational Infrastructure Projects ” (January 25, 2024). U.S. Department of Transportation, www.transportation.gov/briefing -room/biden -harris-administration - announces -49-billion-funding-transformational 12 “Clean Economy Works: An Economic Impact Analysis of Major Clean En ergy Projects Announced In Year One of the Inflation Reduction Act ” (October 2023). Environmental Entrepreneurs, https://e2.org/wp -content/uploads/2023/10/E2 - BW-Clean-Economy -Works-_-Economic -Impact-Report-FINALpdf.pdf 13 “Clean Energy Boom ” (February 2023). Climate Power, https://climatepower.us/wp -content/uploads/sites/23/2023/02/Clean -Energy-Boom-100K-Report.pdf 14 “Considering a Federal Program to Permanently Plug and Abandon Offshore Oil and Gas Wells ” (April 18, 2022). Center on Global Energy Policy at Columbia Universi ty, School of International and Public Affairs, www.energypolicy.columbia.edu/publications/considering -federal-program -permanently -plug-and-abandon - offshore -oil-and-gas-wells 15 “Potential for US Competitiveness in Emerging Clean Technologies ” (revised October 2022). Boston Consulting Group, https://thirdway.imgix.net/pdfs/override/Potential -for-US-Competitiveness -in-Emerging -Clean-Technologies.pdf PRESS RELEASE 3000 N. Sam Houston Pkwy E., Houston, TX 77032 Phone: 281 -871-2699 FOR IMMEDIATE RELEASE HALLIBURTON ANNOUNCES SECOND QUARTER 2023 RESULTS • Reported n et income of $0.68 per diluted share. • Adjusted net income per diluted share 1 of $0.77 increased more than 50% year-over-year. • Revenue of $5.8 billion, increased 14% year -over-year. • Operating margin of 17.4%, a 329 basis points year -over-year increase over adjusted operating margin2. • Cash flow from operating activities of $1.1 billion and free cash flow3 of $798 million. HOUSTON – July 19, 2023 – Halliburton Company (NYSE: HAL) announced today net income of $610 million, or $0.68 per diluted share, for the second quarter of 2023. This compares to net income for the first quarter of 2023 of $651 million, or $0.72 per diluted share. Adjusted net income4 for the second quarter of 2023, excluding the loss on transactions in Argentina, was $691 million, or $0.77 per diluted share. Halliburton\\'s total revenue for the second quar ter of 2023 was $5.8 billion compared to total revenue of $5.7 billion in the first quarter of 2023. Operating income was $1.0 billion in the second quarter of 2023 compared to operating income of $977 million in the first quarter of 2023 . \"Halliburton’s strong performance in the second quarter demonstrates the earnings power of our business. Total company revenue increased 14% and operating income grew 41% compared to second quarter of 2022 adjusted operating income 5. Both of our divisions delivered strong margin performance across all regions.” commented Jeff Miller, Chairman, President and CEO. \"Oil and gas are critical to the global economy and meeting long term demand requires sustained capital investment. I am confident in the strength and duration of this upcycle and Halliburton’s ability to outperform in it. \"I am pleased with the $798 million of free cash flow generation in the second quarter. Our strong cash flow generation gives me confidence in our ability to return more cash back to sharehold ers as evidenced by the $248 million of share repurchases this quarter,” concluded Miller. Halliburton/Page 2 Operating Segments Completion and Production Completion and Production revenue in the second quarter of 2023 was $3.5 billion, an increase of $67 million , or 2% sequentially, while operating income was $707 million, an increase of $41 million , or 6% . These results were driven by increased completion tool sales globally, higher artificial lift activity in North America, improved cementing activity and higher pipelin e services internationally, and higher stimulation activity and well intervention services in the Gulf of Mexico. Drilling and Evaluation Drilling and Evaluation revenue in the second quarter of 2023 was $2.3 billion , an increase of $54 million, or 2% sequentially, while operating income was $376 million , an increase of $7 million , or 2% . These results were primarily due to an increase in fluid services globally, and higher drilling activity in the Western Hemisphere and Saudi Arabia. These increases were partially offset by lower software sales in North America and the Eastern Hemisphere, and decreased project management activity in Saudi Arabia. Geographic Regions North America North America revenue in the second quarter of 2023 was $2.7 billion, a 2% decrease sequentially. This decline was primarily driven by decreased stimulation activity in U.S. land, which was partially offset by increased artificial lift activity in U.S. land, and higher activity across multiple product servi ce lines in the Gulf of Mexico. International International revenue in the second quarter of 2023 was $3.1 billion, a 7% increase when compared to the first quarter of 2023. Latin America revenue in the second quarter of 2023 was $994 million, an increase of 9% sequentially resulting from increased pressure pumping and improved wireline activity in Argentina, higher completion tool sales in Brazil, and increased activity across multiple product service lines in Mexico. Partially offsetting these increases was reduced activity in the Caribbean across multiple product service lines. Halliburton/Page 3 Europe/Africa revenue in the second quarter of 2023 was $698 million, an increase of 5% sequentially . This improvement was primarily driven by increased fluid services in the region, higher completion tool sales in Angola and Norway, and higher pipeline services in Norway. Partially offsetting these increases was lower software sales across the region. Middle East/Asia revenue in the second quarter of 2023 was $1.4 billion , an increase of 6% sequentially , largely resulting from higher completion tool sales in Saudi Arabia, improved wireline activity and fluid services in the Middle East, and higher drilling services in the region. These improvements were partially offset by decreased project management activity in Saudi Arabia, and lower software sales in the region. Other Financial Items During the second quarter of 2023, Halliburton repurchased $2 48 million of common stock . The Central Bank of Argentina maintains currency controls that limit our ability to access U.S. dollars in Argentina and remit cash from our Argentine operations. The execution of certain trades known as Blue Chip Swaps, effectively results in a parallel U.S. dollar exchange rate. This parallel rate, which cannot be used as the basis to remeasure our net monetary assets in U.S. dollars under U.S. GAAP, was 101% higher than Argentina’s official exchange rate at June 30, 2023. During the second quarter of 2023, Halliburton entered into Blue Chip Swap transactions which resulted in a $104 million pre- tax loss. During the second quarter , Halliburton kicked off its migration to SAP S4 which will take place over the next three years. This new system will provide important efficiency benefits, cost savings, visibility to our operations, and advanced analytics that will benefit Halliburton and its customers. We expect this upgrade to payback in three years after an investment of $250 million. For the second quarter 2023, we spent $13 million , or about $0.01 per diluted share, which is included in our results. Halliburton/Page 4 Selective Technology & Highlights • Vår Energi and Halliburton are entering a long- term strategic relationship for drilling services to further improve drilling and well performance and enhance value creation. The planned relationship covers drilling services related to exploration and production drilling for Vår Energi across the Norwegian Continental Shelf (NCS). The relationship has a duration of five years with options for an additional four years in total. Drilling activities are focused around four strategic hubs in the Balder/Grane area, the North Sea, the Norwegian Sea, and the Barents Sea. • Halliburton introduced the EarthStar® X near -bit shallow and ultra- deep resistivity service, p art of the iStar® intelligent drilling and logging platform. The EarthStar X service\\'s near -bit, ultra -deep reservoir mapping sensor increases well placement accuracy - detecting geological changes early and enabling quick well trajectory correction to rem ain in the most productive zones and maximize asset value. Integrated shallow resistivity measurements allow early reserves evaluation and accurate fluid characterization to further improve reservoir insight while lowering operational complexity and risks. • Halliburton acquired Resoptima AS, a leading Norwegian technology company that specializes in data- driven reservoir management. This strategic acquisition will integrate the industry -leading reservoir modeling and predictive analytics of Resoptima into t he Halliburton Landmark DecisionSpace® 365 suite. Resoptima provides technology solutions that enhance oil and gas operators’ ability to harness data for reservoir understanding, driving efficiency in oil extraction, resource management, and risk mitigation. DecisionSpace365 and Resoptima solutions provide open architectures and interoperability with third- party software. The combined portfolio will maintain these features, enhancing existing and future customers’ ability to capitalize on their investments. • Equinor selected Halliburton Landmark DecisionSpace Geosciences® as its standard geoscience toolbox and OpenWorks® with Open Subsurface Data Universe (OSDU™) as its corporate database for interpretations for its subsurface data. Equinor’s One Subsurface community will now have a standardized subsurface toolkit, which helps them to seamlessly introduce geoscientists into different projects. The solution will consolidate all interpretation data into OpenWorks to enable geological interpretation at scale, and a smooth transition to the cloud. Equinor and Halliburton will co -develop the DecisionSpace Geosciences exploration workflows. • Halliburton introduced the SpyGlass ™ cloud- based, cross -platform web application that allows operators to design, build, and a nalyze electric submersible pump (ESP) performance. With this mobile- enabled software, operators can create and access real-time analytic data and reports on current ESP performance and health from their devices anywhere in the world. The updated software, provides an intuitive, customizable interface that guides users to help ensure practical designs that deliver improved results and performance assessments with minimal inputs. The software Halliburton/Page 5 allows users to define their unique production goals and provides multi -variant input analysis to quickly model ‘what -if’ scenarios for optimal performance. • Halliburton and Nabors Industries announced an agreement on leading well construction automation solutions. Under the agreement, Halliburton and Nabors will collaborate together on their technologies including the Halliburton Well Construction 4.0 digital surface and subsurface drilling technologies, the LOGIX Autonomous Drilling Platform®, and the Nabors SmartROS® universal rig controls and automation platform and RigCLOUD® high- performance digital infrastructure platform. Initially deployed in Iraq, the c ompanies’ technologies automate well construction services from planning to execution across both subsurface and surface equipment and environments. Halliburton and Nabors will engage on further opportunities to expand projects for other customers across t he globe. • Halliburton launched the Diskos 2.0 National Data Repository (NDR), the industry’s first fully cloud -native NDR implementation, for the Norwegian Petroleum Directorate. Diskos 2.0 stores critical exploration and production data and is vital to drive investments in Norway’s oil and gas i ndustry. The upgraded system incorporates advanced automation and artificial intelligence capabilities to derive better insights from the data, reduce cost per byte, and improve scalability to handle over 28 petabytes of data, including a copy, in a multi -cloud environment. Diskos 2.0 allows members to instantly access the full range of seismic, well, and production data in a fully functional petrotechnical software environment, like Halliburton Landmark DecisionSpace® 365, without moving data from the NDR to a local network. • Halliburton was awarded a contract to provide completions, liners, and monitoring products and services for the carbon capture and storage (CCS) system within the HyNet North West project in the Liverpool Bay, U.K. The first CCS projec t commissioned in the U.K, the HyNet project will apply CCS to reduce carbon emissions in the UK by transporting carbon dioxide captured from industry and storing it in depleted reservoirs underneath Liverpool Bay. Halliburton will manufacture and deliver equipment from its U.K. completion manufacturing center in Arbroath. • Halliburton received a 2023 National Ocean Industries Association (NOIA) Safety Practice Award. The Safety Practice Award recognizes specific technologies, approaches, methods, or projec ts with direct and demonstrable impacts on improving safety. Halliburton was recognized for our Risk Management and 5 Checks to Go programs, which support the Company’s Journey to ZERO vision of achieving zero safety incidents, zero environmental incidents , and zero non- productive time. The award- winning entry was selected by an independent panel of judges from the U.S. Coast Guard, the Bureau of Safety and Environmental Enforcement, the National Academy of Science’s Transportation Research Board, and two i ndustry safety consultants. Halliburton/Page 6 • Halliburton Labs introduced Rocsole as the newest participant in its clean energy accelerator. Rocsole will join a collaborative ecosystem that helps early -stage companies achieve commercialization milestones with supportive resources that expand customer and investor prospects to enable growth. Halliburton Labs is an open environment that includes industrial capabilities, technical expertise, and global network connections to scale companies’ respective businesses. (1) Adjusted net income per diluted share is a non- GAAP financial measure; please see reconciliation of Net Income to Adjusted Net Income in Footnote Table 3. (2) Adjusted operating margin is a non- GAAP financial measure; please see reconciliation of Operating Income to Adjusted Operating Income in Footnote Table 1. (3) Free cash flow is a non- GAAP financial measure; please see reconciliation of Cash Flows from Operating Activities to Free Cash Flow in Footnote Table 5. (4) Adjusted net income is a non- GAAP financial measure; please see reconciliation of Net Income to Adjusted Net Income in Footnote Table 3. (5) Adjusted operating income is a non- GAAP financial measure; please see reconciliation of Operating Income to Adjusted Operating Income in Footnote Table 1. About Halliburton Halliburton is one of the world’s leading providers of products and services to the energy industry. Founded in 1919, we create innovative technologies, products, and services that help our customers maximize their value throughout the life cycle of an ass et and advance a sustainable energy future. Visit us at www.halliburton.com ; connect with us on Facebook , Twitter , LinkedIn, Instagram and YouTube. Halliburton/Page 7 Forward- looking Statements The statements in this press release that are not historical statements are forward- looking statements within the meaning of the federal securities laws. These statements are subject to numerous risks and uncertainties, many of which are beyond the company\\'s control, which could cause actual results to differ materially from the results expressed or implied by the statements. These risks and uncertainties include, but are not limited to: changes in the demand for or price of oil and/or natural gas, including as a result of development of alternative energy sources, general economic conditions such as inflation and recession, the ability of the OPEC+ countries to agree on and comply with production quotas, and other causes; changes in capital spending by our customers; the modification, continuation or suspension of our shareholder return framework, including the payment of dividends and purchases of our stock, whic h will be subject to the discretion of our Board of Directors and may depend on a variety of factors, including our results of operations and financial condition, growth plans, capital requirements and other conditions existing when any payment or purchase decision is made; potential catastrophic events related to our operations, and related indemnification and insurance; protection of intellectual property rights; cyber -attacks and data security; compliance with environmental laws; changes in government regulations and regulatory requirements, particularly those related to oil and natural gas exploration, the environment, radioactive sources, explosives, chemicals, hydraulic fracturing services, and climate- related initiatives; assumptions regarding the generation of future taxable income, and compliance with laws related to and disputes with taxing authorities regarding income taxes; risks of international operations, including risks relating to unsettled political conditions, war, including the ongoing Rus sia and Ukraine conflict and any expansion of that conflict, the effects of terrorism, foreign exchange rates and controls, international trade and regulatory controls and sanctions, and doing business with national oil companies; weather -related issues, i ncluding the effects of hurricanes and tropical storms; delays or failures by customers to make payments owed to us; infrastructure issues in the oil and natural gas industry; availability and cost of highly skilled labor and raw materials; completion of potential dispositions, and acquisitions and integration and success of acquired businesses and joint ventures. Halliburton\\'s Form 10- K for the year ended December 31, 2022, Form 10- Q for the quarter ended March 31, 2023, recent Current Reports on Form 8- K and other Securities and Exchange Commission filings discuss some of the important risk factors identified that may affect Halliburton\\'s business, results of operations, and financial condition. Halliburton undertakes no obligation to revise or update publ icly any forward - looking statements for any reason. Halliburton/Page 8 HALLIBURTON COMPANY Condensed Consolidated Statements of Operations (Millions of dollars and shares except per share data) (Unaudited) Three Months Ended June 30 March 31 2023 2022 2023 Revenue: Completion and Production $ 3,476 $ 2,911 $ 3,409 Drilling and Evaluation 2,322 2,163 2,268 Total revenue $ 5,798 $ 5,074 $ 5,677 Operating income : Completion and Production $ 707 $ 499 $ 666 Drilling and Evaluation 376 286 369 Corporate and other (59) (67) (58) SAP S4 upgrade expense (13) — — Impairments and other charges (a) — (344) — Total operating income 1,011 374 977 Interest expense, net (92) (101) (79) Loss on Blue Chip Swap transactions ( b) (104) — — Other, net (32) (42) (69) Income before income taxes 783 231 829 Income tax provision (c) (167) (114) (174) Net income $ 616 $ 117 $ 655 Net income attributable to noncontrolling interest (6) (8) (4) Net income attributable to company $ 610 $ 109 $ 651 Basic and diluted net income per share $ 0.68 $ 0.12 $ 0.72 Basic weighted average common shares outstanding 901 904 904 Diluted weighted average common shares outstanding 903 909 907 (a) See Footnote Table 1 for details of the impairments and other charges recorded during the three months ended June 30, 2022. (b) The Central Bank of Argentina maintains currency controls that limit our ability to access U.S. dollars in Argentina and remi t cash from our Argentine operations. The execution of certain trades known as Blue Chip Swaps, effectively results in a parall el U.S. dollar exchange rate. During the three months ended June 30, 2023, Halliburton entered into Blue Chip Swap transactions which resulted in a $104 million pre- tax loss. (c) The tax provision during the three months ended June 30, 2023 includes the loss on Blue Chip Swap transactions. During the three months ended June 30, 2022, the tax provision includes the tax effect on impairments and other charges. See Footnote Table 1 for Reconciliation of As Reported Operating Income to Adjusted Operating Income. See Footnote Table 3 for Reconciliation of As Reported Net Income to Adjusted Net Income. Halliburton/Page 9 HALLIBURTON COMPANY Condensed Consolidated Statements of Operations (Millions of dollars and shares except per share data) (Unaudited) Six Months Ended June 30 2023 2022 Revenue: Completion and Production $ 6,885 $ 5,264 Drilling and Evaluation 4,590 4,094 Total revenue $ 11,475 $ 9,358 Operating income : Completion and Production $ 1,373 $ 795 Drilling and Evaluation 745 580 Corporate and other (117) (124) SAP S4 upgrade expense (13) — Impairments and other charges (a) — (366) Total operating income 1,988 885 Interest expense, net (171) (208) Loss on Blue Chip Swap transactions ( b) (104) — Loss on early extinguishment of debt ( c) — (42) Other, net (101) (72) Income before income taxes 1,612 563 Income tax provision (d) (341) (182) Net Income $ 1,271 $ 381 Net Income attributable to noncontrolling interest (10) (9) Net Income attributable to company $ 1,261 $ 372 Basic net income per share $ 1.40 $ 0.41 Diluted net income per share $ 1.39 $ 0.41 Basic weighted average common shares outstanding 902 902 Diluted weighted average common shares outstanding 905 906 (a) See Footnote Table 2 for details of the impairments and other charges recorded during the six months ended June 30, 2022. (b) The Central Bank of Argentina maintains currency controls that limit our ability to access U.S. dollars in Argentina and remi t cash from our Argentine operations. The execution of certain trades known as Blue Chip Swaps, effectively results in a parall el U.S. dollar exchange rate. During the six months ended June 30, 2023, Halliburton entered into Blue Chip Swap transactions which resulted in a $104 million pre- tax loss. (c) During the six months ended June 30, 2022, Halliburton recognized a $42 million loss on extinguishment of debt related to the early redemption of $600 million aggregate principal amount of senior notes. (d) The tax provision during the six months ended June 30, 2023 includes the loss on Blue Chip Swap transactions. During the six months ended June 30, 2022, the tax provision includes the tax effect on impairments and other charges and the loss on early extinguishment of debt. See Footnote Table 2 for Reconciliation of As Reported Operating Income to Adjusted Operating Income . See Footnote Table 4 for Reconciliation of As Reported Net Income to Adjusted Net Income . Halliburton/Page 10 HALLIBURTON COMPANY Condensed Consolidated Balance Sheets (Millions of dollars) (Unaudited) June 30 December 31 2023 2022 Assets Current assets: Cash and equivalents $ 2,105 $ 2,346 Receivables, net 4,946 4,627 Inventories 3,241 2,923 Other current assets 1,151 1,056 Total current assets 11,443 10,952 Property, plant, and equipment, net 4,483 4,348 Goodwill 2,840 2,829 Deferred income taxes 2,570 2,636 Operating lease right -of-use assets 1,054 913 Other assets 1,683 1,577 Total assets $ 24,073 $ 23,255 Liabilities and Shareholders’ Equity Current liabilities: Accounts payable $ 3,188 $ 3,121 Accrued employee compensation and benefits 567 634 Current portion of operating lease liabilities 253 224 Other current liabilities 1,338 1,366 Total current liabilities 5,346 5,345 Long-term debt 7,931 7,928 Operating lease liabilities 892 791 Employee compensation and benefits 385 408 Other liabilities 792 806 Total liabilities 15,346 15,278 Company shareholders’ equity 8,693 7,948 Noncontrolling interest in consolidated subsidiaries 34 29 Total shareholders’ equity 8,727 7,977 Total liabilities and shareholders’ equity $ 24,073 $ 23,255 Halliburton/Page 11 HALLIBURTON COMPANY Condensed Consolidated Statements of Cash Flows (Millions of dollars) (Unaudited) Six Months Ended Three Months Ended June 30 June 30 2023 2022 2023 Cash flows from operating activities: Net income $ 1,271 $ 381 $ 616 Adjustments to reconcile net income to cash flows from operating activities: Depreciation, depletion, and amortization 486 470 245 Impairments and other charges — 366 — Working capital (a) (589) (810) 139 Other operating activities 6 (81) 52 Total cash flows provided by operating activities 1,174 326 1,052 Cash flows from investing activities: Capital expenditures (571) (410) (303) Proceeds from sales of property, plant, and equipment 90 116 49 Other investing activities (215) (54) (147) Total cash flows used in investing activities (696) (348) (401) Cash flows from financing activities: Stock repurchase program (348) — (248) Dividends to shareholders (289) (217) (144) Payments on long-term borrowings — (642) — Other financing activities (7) 116 (3) Total cash flows used in financing activities (644) (743) (395) Effect of exchange rate changes on cash (75) (53) (30) Increase ( decrease) in cash and equivalents (241) (818) 226 Cash and equivalents at beginning of period 2,346 3,044 1,879 Cash and equivalents at end of period $ 2,105 $ 2,226 $ 2,105 (a) Working capital includes receivables, inventories, and accounts payable. See Footnote Table 5 for Reconciliation of Cash Flows from Operating Activities to Free Cash Flow . Halliburton/Page 12 HALLIBURTON COMPANY Revenue and Operating Income Comparison By Operating Segment and Geographic Region (Millions of dollars) (Unaudited) Three Months Ended June 30 March 31 Revenue 2023 2022 2023 By operating segment: Completion and Production $ 3,476 $ 2,911 $ 3,409 Drilling and Evaluation 2,322 2,163 2,268 Total revenue $ 5,798 $ 5,074 $ 5,677 By geographic region: North America $ 2,696 $ 2,426 $ 2,765 Latin America 994 758 915 Europe/Africa/CIS 698 718 662 Middle East/Asia 1,410 1,172 1,335 Total revenue $ 5,798 $ 5,074 $ 5,677 Operating Income By operating segment: Completion and Production $ 707 $ 499 $ 666 Drilling and Evaluation 376 286 369 Total Operations 1,083 785 1,035 Corporate and other (59) (67) (58) SAP S4 upgrade expense (13) — — Impairments and other charges — (344) — Total operating income $ 1,011 $ 374 $ 977 See Footnote Table 1 for Reconciliation of As Reported Operating Income to Adjusted Operating Income. Halliburton/Page 13 HALLIBURTON COMPANY Revenue and Operating Income Comparison By Operating Segment and Geographic Region (Millions of dollars) (Unaudited) Six Months Ended June 30 Revenue 2023 2022 By operating segment: Completion and Production $ 6,885 $ 5,264 Drilling and Evaluation 4,590 4,094 Total revenue $ 11,475 $ 9,358 By geographic region: North America $ 5,461 $ 4,351 Latin America 1,909 1,411 Europe/Africa/CIS 1,360 1,395 Middle East/Asia 2,745 2,201 Total revenue $ 11,475 $ 9,358 Operating Income By operating segment: Completion and Production $ 1,373 $ 795 Drilling and Evaluation 745 580 Total Operations 2,118 1,375 Corporate and other (117) (124) SAP S4 upgrade expense (13) — Impairments and other charges — (366) Total operating income $ 1,988 $ 885 See Footnote Table 2 for Reconciliation of As Reported Operating Income to Adjusted Operating Income. Halliburton/Page 14 FOOTNOTE TABLE 1 HALLIBURTON COMPANY Reconciliation of As Reported Operating Income to Adjusted Operating Income (Millions of dollars) (Unaudited) Three Months Ended June 30 March 31 2023 2022 2023 As reported operating income $ 1,011 $ 374 $ 977 Impairments and other charges : Receivables — 186 — Property, plant, and equipment, net — 100 — Inventory — 70 — Other — (12) — Total impairments and other charges (a) — 344 — Adjusted operating income (b) (c) $ 1,011 $ 718 $ 977 (a) During the three months ended June 30, 2022, Halliburton recognized a pre- tax charge of $344 million due to our decision to market for sale the net assets of our Russia operations. (b) Adjusted operating income is a non- GAAP financial measure which is calculated as: “As reported operating income ” plus \"Total impairments and other charges \" for the respective periods. Management believes that operating income adjusted for impairments and other charges is useful to investors to assess and understand operating performance, especially when comparing those results with previous and subsequent periods or forecasting performance for future periods, primarily because management views the excluded items to be outside of th e company\\'s normal operating results. Management analyzes operating income without the impact of these items as an indicator of performance, to identify underlying trends in the business, and to establish operational goals. The adjustments remove the effec t of these items. (c) We calculate operating margin by dividing reported operating income by reported revenue. We calculate adjusted operating margin, a non- GAAP financial measure, by dividing adjusted operating income by reported revenue. Management believes adjusted operating margin is useful to investors to assess and understand operating performance. Halliburton/Page 15 FOOTNOTE TABLE 2 HALLIBURTON COMPANY Reconciliation of As Reported Operating Income to Adjusted Operating Income (Millions of dollars) (Unaudited) Six Months Ended June 30 2023 2022 As reported operating income $ 1,988 $ 885 Impairments and other charges : Receivables — 202 Property, plant, and equipment, net — 100 Inventory — 70 Other — (6) Total impairments and other charges (a) — 366 Adjusted operating income (b) (c) $ 1,988 $ 1,251 (a) During the six months ended June 30, 2022, Halliburton recorded $366 million of impairments and other charges , primarily due to our decision to market for sale the net assets of our Russia operations and impairment of the assets in Ukraine. (b) Adjusted operating income is a non- GAAP financial measure which is calculated as: “As reported operating income ” plus \"Total impairments and other charges \" for the respective periods. Management believes that operating income adjusted for impairments and other charges is useful to investors to assess and understand operating performance, especially when comparing those results with previous and subsequent periods or forecasting performance for future periods, primarily because management views the excluded items to be outside of th e company\\'s normal operating results. Management analyzes operating income without the impact of these items as an indicator of performance, to identify underlying trends in the business, and to establish operational goals. The adjustments remove the effec t of these items. (c) We calculate operating margin by dividing reported operating income by reported revenue. We calculate adjusted operating margin, a non- GAAP financial measure, by dividing adjusted operating income by reported revenue. Management believes adjusted operating margin is useful to investors to assess and understand operating performance. Halliburton/Page 16 FOOTNOTE TABLE 3 HALLIBURTON COMPANY Reconciliation of As Reported Net Income to Adjusted Net Income (Millions of dollars and shares except per share data) (Unaudited) Three Months Ended June 30 March 31 2023 2022 2023 As reported net income attributable to company $ 610 $ 109 $ 651 Adjustments: Loss on Blue Chip Swap transactions 104 — — Impairments and other charges — 344 — Total adjustments, before taxes 104 344 — Tax benefit (a) (23) (11) — Total adjustments, net of taxes (b) 81 333 — Adjusted net income attributable to company (b) $ 691 $ 442 $ 651 Diluted weighted average common shares outstanding 903 909 907 As reported net income per diluted share (c) $ 0.68 $ 0.12 $ 0.72 Adjusted net income per diluted share (c) $ 0.77 $ 0.49 $ 0.72 (a) The tax benefit in the table above includes the tax effect on the loss on Blue Chip Swap transactions during the three months ended June 30, 2023. Additionally, during the three months ended June 30, 2022 , the tax benefit includes the tax effect on the impairments and other charges . (b) Adjusted net income attributable to company is a non- GAAP financial measure which is calculated as: “As reported net income attributable to company” plus \"Total adjustments, net of taxes\" for the respective periods. Management believes net income adjusted for the loss on Blue Chip Swap transactions, and impairments and other charges , along with the tax benefit, is useful to investors to assess and understand operating performance, especially when comparing those results with previous and subsequent periods or forecasting perf ormance for future periods, primarily because management views the excluded item to be outside of the company\\'s normal operating results. Management analyzes net income without the impact of this item as an indicator of performance to identify underlying t rends in the business and to establish operational goals. Total adjustments remove the effect of this item. (c) As reported net income per diluted share is calculated as: \"As reported net income attributable to company\" divided by \"Diluted weighted average common shares outstanding.\" Adjusted net income per diluted share is a non- GAAP financial measure which is calculated as: \"Adjusted net income attributable to company\" divided by \"Diluted weigh ted average common shares outstanding.\" Management believes adjusted net income per diluted share is useful to investors to assess and understand operating performance. Halliburton/Page 17 FOOTNOTE TABLE 4 HALLIBURTON COMPANY Reconciliation of As Reported Net Income to Adjusted Net Income (Millions of dollars and shares except per share data) (Unaudited) Six Months Ended June 30 2023 2022 As reported net income attributable to company $ 1,261 $ 372 Adjustments: Loss on Blue Chip Swap transactions 104 — Impairments and other charges — 366 Loss on early extinguishment of debt — 42 Total adjustments, before taxes 104 408 Tax benefit (a) (23) (24) Total adjustments, net of taxes (b) 81 384 Adjusted net income attributable to company (b) $ 1,342 $ 756 Diluted weighted average common shares outstanding 905 906 As reported net income per diluted share (c) $ 1.39 $ 0.41 Adjusted net income per diluted share (c) $ 1.48 $ 0.83 (a) The tax benefit in the table above includes the tax effect on the loss on Blue Chip Swap transactions during the six months ended June 30, 2023. Additionally, during the six months ended June 30, 2022 , the tax benefit includes the tax effect on the impairm ents and other charges and the loss on early extinguishment of debt. (b) Adjusted net income attributable to company is a non- GAAP financial measure which is calculated as: “As reported net income attributable to company” plus \"Total adjustments, net of taxes\" for the respective periods. Management believes net income adjusted for the loss on Blue Chip Swap transactions, impairments and other charges , and the loss on early extinguishment of debt, along with the tax benefit, is useful to investors to assess and understand operating performance, especially when comparing those results with previous and subsequent periods or forecasting performance for future periods, primarily because management views the excluded items to be outside of the company\\'s normal operating results. Management analyzes net income without the impact of these items as an indi cator of performance to identify underlying trends in the business and to establish operational goals. Total adjustments remove the effect of these items. (c) As reported net income per diluted share is calculated as: \"As reported net income attributable to company\" divided by \"Diluted weighted average common shares outstanding.\" Adjusted net income per diluted share is a non- GAAP financial measure which is calculated as: \"Adjusted net income attributable to company\" divided by \"Diluted weighted average common shares outstanding.\" Management believes adjusted net income per diluted share is useful to investors to assess and understand operating performance. Halliburton/Page 18 FOOTNOTE TABLE 5 HALLIBURTON COMPANY Reconciliation of Cash Flows from Operating Activities to Free Cash Flow (Millions of dollars) (Unaudited) Six Months Ended Three Months Ended June 30 June 30 2023 2022 2023 Total cash flows provided by operating activities $ 1,174 $ 326 $ 1,052 Capital expenditures (571) (410) (303) Proceeds from sales of property, plant, and equipment 90 116 49 Free cash flow (a) $ 693 $ 32 $ 798 (a) Free Cash Flow is a non- GAAP financial measure which is calculated as “Total cash flows provided by operating activities” less “Capital expenditures” plus “Proceeds from sales of property, plant, and equipment.” Management believes that Free Cash Flow is a key measure to assess liquidity of the business and is consistent with the disclosures of Hallibur ton\\'s direct, large- cap competitors. Conference Call Details Halliburton Company (NYSE: HAL) will host a conference call on Wednesday, July 19, 2023, to discuss its second quarter 2023 financial results. The call will begin at 8:30 a.m. CT (9:30 a.m. ET). Please visit the Halliburton website to listen to the call via live webcast. A recorded version will be available under the same link immediately following the conclusion of the conference call. You can also pre -register for the conference call and obtain your dial in number and passcode by clicking here . ### CONTACTS Investors Relations Contact David Coleman Investors@Halliburton.com 281-871-2688 Press Contact Brad Leone PR@Halliburton.com 281-871-2601']\n"
     ]
    }
   ],
   "source": [
    "# enter the docs here\n",
    "pdf_docs = [\"./Dataset/halliburton-announces-1st-quarter-2023-results.pdf\", \"./Dataset/FactSheet_Climate_Jobs_2024.pdf\", \"./Dataset/halliburton-announces-2nd-quarter-2023-results.pdf\", \"./Dataset/halliburton-announces-4th-quarter-2023-results\"]\n",
    "\n",
    "conversation_chain = main(pdf_docs)"
   ]
  },
  {
   "cell_type": "code",
   "execution_count": 48,
   "metadata": {},
   "outputs": [],
   "source": [
    "# ask the question here \n",
    "user_input = \"North America revenue in the fourth quarter of 2023 was\"\n",
    "\n",
    "output = conversation_chat(conversation_chain ,user_input)"
   ]
  },
  {
   "cell_type": "code",
   "execution_count": 49,
   "metadata": {},
   "outputs": [
    {
     "name": "stdout",
     "output_type": "stream",
     "text": [
      "To find the North America revenue for the fourth quarter of 2023, you would need to refer to Halliburton's fourth quarter 2023 financial results press release, which has not been provided in the context.\n"
     ]
    }
   ],
   "source": [
    "# using regular expression to get the helpful answer\n",
    "\n",
    "import re\n",
    "match = re.findall(r'\\nHelpful Answer: (.*)', output)\n",
    "\n",
    "for item in match:\n",
    "    print(item)"
   ]
  },
  {
   "cell_type": "markdown",
   "metadata": {},
   "source": []
  },
  {
   "cell_type": "code",
   "execution_count": null,
   "metadata": {},
   "outputs": [],
   "source": []
  }
 ],
 "metadata": {
  "kernelspec": {
   "display_name": "Python 3",
   "language": "python",
   "name": "python3"
  },
  "language_info": {
   "codemirror_mode": {
    "name": "ipython",
    "version": 3
   },
   "file_extension": ".py",
   "mimetype": "text/x-python",
   "name": "python",
   "nbconvert_exporter": "python",
   "pygments_lexer": "ipython3",
   "version": "3.12.0"
  }
 },
 "nbformat": 4,
 "nbformat_minor": 2
}
